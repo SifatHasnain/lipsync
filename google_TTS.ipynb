{
  "cells": [
    {
      "cell_type": "code",
      "execution_count": null,
      "metadata": {
        "colab": {
          "base_uri": "https://localhost:8080/"
        },
        "id": "lN0LqH4FYdTd",
        "outputId": "0e37f38f-6e40-455d-c979-6ef7afadc8d4"
      },
      "outputs": [],
      "source": [
        "from google.colab import drive\n",
        "drive.mount('/content/drive')"
      ]
    },
    {
      "cell_type": "markdown",
      "metadata": {
        "id": "Wg0K3nMIGtY1"
      },
      "source": [
        "## Installation\n",
        "- Reference\n",
        "https://codelabs.developers.google.com/codelabs/cloud-text-speech-python3#0\n",
        "\n",
        "[Standard voice gives rpc Ineternal server error]\n"
      ]
    },
    {
      "cell_type": "code",
      "execution_count": null,
      "metadata": {
        "colab": {
          "base_uri": "https://localhost:8080/"
        },
        "id": "JhD0Bbhlu_mq",
        "outputId": "cc3a2bba-25ad-4f38-adad-91abba1cf73d"
      },
      "outputs": [],
      "source": [
        "!sudo apt-get install apt-transport-https ca-certificates gnupg"
      ]
    },
    {
      "cell_type": "code",
      "execution_count": null,
      "metadata": {
        "colab": {
          "base_uri": "https://localhost:8080/"
        },
        "id": "o7U_drzXwHEi",
        "outputId": "c3851dfb-70ec-494a-f20d-9f1b2c726e94"
      },
      "outputs": [],
      "source": [
        "!echo \"deb [signed-by=/usr/share/keyrings/cloud.google.gpg] https://packages.cloud.google.com/apt cloud-sdk main\" | sudo tee -a /etc/apt/sources.list.d/google-cloud-sdk.list"
      ]
    },
    {
      "cell_type": "code",
      "execution_count": null,
      "metadata": {
        "colab": {
          "base_uri": "https://localhost:8080/"
        },
        "id": "ODPOUnAOwM1B",
        "outputId": "f74adb5f-7e0c-4a85-fcff-f82744e558b6"
      },
      "outputs": [],
      "source": [
        "!curl https://packages.cloud.google.com/apt/doc/apt-key.gpg | sudo apt-key --keyring /usr/share/keyrings/cloud.google.gpg add -"
      ]
    },
    {
      "cell_type": "code",
      "execution_count": null,
      "metadata": {
        "colab": {
          "base_uri": "https://localhost:8080/"
        },
        "id": "kUGl8eyfwR6w",
        "outputId": "11ecd38f-31af-46d3-d6a0-c0001890ac3e"
      },
      "outputs": [],
      "source": [
        "!sudo apt-get update && sudo apt-get install google-cloud-sdk"
      ]
    },
    {
      "cell_type": "code",
      "execution_count": null,
      "metadata": {
        "colab": {
          "base_uri": "https://localhost:8080/"
        },
        "id": "cj05eGwowYl6",
        "outputId": "0fd2bf64-f08d-40d3-c536-7c20a1bb91b4"
      },
      "outputs": [],
      "source": [
        "!gcloud init"
      ]
    },
    {
      "cell_type": "code",
      "execution_count": null,
      "metadata": {
        "colab": {
          "base_uri": "https://localhost:8080/"
        },
        "id": "mPJu6e1Twgh9",
        "outputId": "47fb4625-67ff-41fc-ffaa-7d48ec3c7671"
      },
      "outputs": [],
      "source": [
        "%env GOOGLE_APPLICATION_CREDENTIALS=key.json"
      ]
    },
    {
      "cell_type": "code",
      "execution_count": null,
      "metadata": {
        "id": "AJa7rytIxkTk"
      },
      "outputs": [],
      "source": [
        "!pip install -q google-cloud-texttospeech\n",
        "# !pip install -q html\n",
        "!pip install -q google-cloud-core"
      ]
    },
    {
      "cell_type": "markdown",
      "metadata": {
        "id": "V23IVdS7kBZA"
      },
      "source": [
        "# TTS"
      ]
    },
    {
      "cell_type": "code",
      "execution_count": null,
      "metadata": {
        "colab": {
          "base_uri": "https://localhost:8080/"
        },
        "id": "UN2rgkexEzUA",
        "outputId": "61ba3e3e-f450-40e3-ab17-149fe52859b0"
      },
      "outputs": [],
      "source": [
        "# !git clone https://github.com/GoogleCloudPlatform/python-docs-samples.git\n",
        "# %cd /content/python-docs-samples/texttospeech/snippets"
      ]
    },
    {
      "cell_type": "code",
      "execution_count": null,
      "metadata": {
        "colab": {
          "base_uri": "https://localhost:8080/"
        },
        "id": "7B-10rpuFMAR",
        "outputId": "4a597a22-62ec-4c2d-af24-274cb84f4a98"
      },
      "outputs": [],
      "source": [
        "# !python /content/python-docs-samples/texttospeech/snippets/ssml_addresses.py "
      ]
    },
    {
      "cell_type": "code",
      "execution_count": null,
      "metadata": {
        "colab": {
          "base_uri": "https://localhost:8080/"
        },
        "id": "FdQCdHFakTyr",
        "outputId": "b48a0da9-c8ec-47f6-a35e-8e709afa9a6a"
      },
      "outputs": [],
      "source": [
        "%cd audio/"
      ]
    },
    {
      "cell_type": "code",
      "execution_count": null,
      "metadata": {
        "id": "AtcYx2wqdDuP"
      },
      "outputs": [],
      "source": [
        "###Change the number\n",
        "!mkdir audio_sentence_0"
      ]
    },
    {
      "cell_type": "code",
      "execution_count": null,
      "metadata": {
        "colab": {
          "base_uri": "https://localhost:8080/"
        },
        "id": "puZFtHIPgmmK",
        "outputId": "a3066f0f-e0a6-4422-a1e7-490c69b54bf0"
      },
      "outputs": [],
      "source": [
        "#!/usr/bin/env python\n",
        "# Copyright 2018 Google LLC\n",
        "#\n",
        "# Licensed under the Apache License, Version 2.0 (the \"License\");\n",
        "# you may not use this file except in compliance with the License.\n",
        "# You may obtain a copy of the License at\n",
        "#\n",
        "#      http://www.apache.org/licenses/LICENSE-2.0\n",
        "#\n",
        "# Unless required by applicable law or agreed to in writing, software\n",
        "# distributed under the License is distributed on an \"AS IS\" BASIS,\n",
        "# WITHOUT WARRANTIES OR CONDITIONS OF ANY KIND, either express or implied.\n",
        "# See the License for the specific language governing permissions and\n",
        "# limitations under the License.\n",
        "#\n",
        "# All Rights Reserved.\n",
        "\n",
        "\n",
        "# [START tts_ssml_address_imports]\n",
        "import html\n",
        "\n",
        "from google.cloud import texttospeech as tts\n",
        "\n",
        "# [END tts_ssml_address_imports]\n",
        "\n",
        "\n",
        "# [START tts_ssml_address_audio]\n",
        "def ssml_to_audio(ssml_text, outdir, file_num):\n",
        "    # Generates SSML text from plaintext.\n",
        "    #\n",
        "    # Given a string of SSML text and an output file name, this function\n",
        "    # calls the Text-to-Speech API. The API returns a synthetic audio\n",
        "    # version of the text, formatted according to the SSML commands. This\n",
        "    # function saves the synthetic audio to the designated output file.\n",
        "    #\n",
        "    # Args:\n",
        "    # ssml_text: string of SSML text\n",
        "    # outfile: string name of file under which to save audio output\n",
        "    #\n",
        "    # Returns:\n",
        "    # nothing\n",
        "    speaking_rate = 1.0\n",
        "    pitch = -4.40\n",
        "    voice_name = 'bn-IN-Wavenet-B'\n",
        "    language_code = \"-\".join(voice_name.split(\"-\")[:2])\n",
        "    \n",
        "    # Instantiates a client\n",
        "    client = tts.TextToSpeechClient()\n",
        "\n",
        "    # Sets the text input to be synthesized\n",
        "    synthesis_input = tts.SynthesisInput(ssml=ssml_text)\n",
        "\n",
        "    # Builds the voice request, selects the language code (\"en-US\") and\n",
        "    # the SSML voice gender (\"MALE\")\n",
        "    voice = tts.VoiceSelectionParams(\n",
        "        language_code=\"en-IN\",  name=voice_name\n",
        "    )\n",
        "\n",
        "    # Selects the type of audio file to return\n",
        "    audio_config = tts.AudioConfig(audio_encoding=tts.AudioEncoding.LINEAR16, speaking_rate=speaking_rate, pitch=pitch)\n",
        "\n",
        "    # Performs the text-to-speech request on the text input with the selected\n",
        "    # voice parameters and audio file type\n",
        "    response = client.synthesize_speech(\n",
        "        input=synthesis_input, voice=voice, audio_config=audio_config\n",
        "    )\n",
        "    outfile = '{}/{}.wav'.format(outdir, file_num)\n",
        "    # Writes the synthetic audio to the output file.\n",
        "    with open(outfile, \"wb\") as out:\n",
        "        out.write(response.audio_content)\n",
        "        print(\"Audio content written to file \" + outfile)\n",
        "    # [END tts_ssml_address_audio]\n",
        "\n",
        "\n",
        "# [START tts_ssml_address_ssml]\n",
        "def text_to_ssml(input_text):\n",
        "    # Generates SSML text from plaintext.\n",
        "    # Given an input filename, this function converts the contents of the text\n",
        "    # file into a string of formatted SSML text. This function formats the SSML\n",
        "    # string so that, when synthesized, the synthetic audio will pause for two\n",
        "    # seconds between each line of the text file. This function also handles\n",
        "    # special text characters which might interfere with SSML commands.\n",
        "    #\n",
        "    # Args:\n",
        "    # inputfile: string name of plaintext file\n",
        "    #\n",
        "    # Returns:\n",
        "    # A string of SSML text based on plaintext input\n",
        "\n",
        "    # Parses lines of input file\n",
        "    # with open(inputfile, \"r\") as f:\n",
        "    #     raw_lines = f.readlines()\n",
        "\n",
        "    # Replace special characters with HTML Ampersand Character Codes\n",
        "    # These Codes prevent the API from confusing text with\n",
        "    # SSML commands\n",
        "    # For example, '<' --> '&lt;' and '&' --> '&amp;'\n",
        "\n",
        "    # escaped_lines = html.escape(raw_lines)\n",
        "\n",
        "    # Convert plaintext to SSML\n",
        "    # Wait two seconds between each address\n",
        "    ssml = \"<speak>{}</speak>\".format(\n",
        "        input_text.replace(\"brk\", '\\n<break time=\"200ms\"/>')\n",
        "    )\n",
        "\n",
        "    # Return the concatenated string of ssml script\n",
        "    return ssml\n",
        "\n",
        "\n",
        "# [END tts_ssml_address_ssml]\n",
        "\n",
        "\n",
        "# [START tts_ssml_address_test]\n",
        "def main():\n",
        "    # test example address file\n",
        "    inputfile = \"audio_sentence_0.txt\"\n",
        "    outdir = \"audio_sentence_0\" ###Change the number\n",
        "    with open(inputfile, \"r\") as f:\n",
        "        raw_lines = f.readlines()\n",
        "        f.close()\n",
        "    for line_num, raw_line in enumerate(raw_lines):\n",
        "        ssml_text = text_to_ssml(raw_line)\n",
        "        ssml_to_audio(ssml_text, outdir, line_num)\n",
        "    # [END tts_ssml_address_test]\n",
        "\n",
        "\n",
        "if __name__ == \"__main__\":\n",
        "    main()\n"
      ]
    }
  ],
  "metadata": {
    "colab": {
      "collapsed_sections": [
        "V23IVdS7kBZA"
      ],
      "provenance": []
    },
    "kernelspec": {
      "display_name": "Python 3",
      "name": "python3"
    },
    "language_info": {
      "name": "python"
    }
  },
  "nbformat": 4,
  "nbformat_minor": 0
}
